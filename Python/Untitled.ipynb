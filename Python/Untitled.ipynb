{
 "cells": [
  {
   "cell_type": "code",
   "execution_count": 34,
   "metadata": {},
   "outputs": [
    {
     "name": "stdout",
     "output_type": "stream",
     "text": [
      "()\n",
      "<type 'tuple'>\n",
      "(12, 13, 14)\n",
      "<type 'tuple'>\n",
      "12\n",
      "13\n",
      "14\n",
      "<type 'dict'>\n",
      "<type 'dict'>\n",
      "a  ==  1\n",
      "c  ==  3\n",
      "b  ==  2\n",
      "[1, 4, 9, 16, 25]\n",
      "[1, 4, 9, 16, 25]\n",
      "190\n",
      "190\n",
      "[2, 4, 6, 8, 10]\n",
      "[5]\n",
      "['Odd', 'Even', 'Odd', 'Even', 'Odd']\n",
      "['ax', 'ay', 'az', 'bx', 'by', 'bz', 'cx', 'cy', 'cz']\n",
      "9\n"
     ]
    }
   ],
   "source": [
    "def f1(*p):\n",
    "    print p\n",
    "    print type(p)\n",
    "    for i in p:\n",
    "        print i\n",
    "\n",
    "f1()\n",
    "f1(12,13,14)\n",
    "\n",
    "def f2(**p):\n",
    "    print type(p)\n",
    "    for k,v in p.items():\n",
    "        print k, \" == \", v\n",
    "f2()\n",
    "f2(a=1,b=2,c=3)\n",
    "\n",
    "f3 = lambda x,y: x+y\n",
    "f3(10,12)\n",
    "\n",
    "l1 = range(1,6)\n",
    "f4 = lambda x : x*x\n",
    "l2 = map(f4,l1)\n",
    "print l2\n",
    "print map(lambda x: x*x,l1)\n",
    "\n",
    "l3 = range(10,30)\n",
    "l2 = filter(lambda x: x%2 == 0, l3)\n",
    "print reduce(lambda x,y: x+y, l2)\n",
    "print sum(l2)\n",
    "l4 = [x+x for x in l1]\n",
    "print l4\n",
    "l5=[x for x in l1 if x%5 ==0]\n",
    "print l5\n",
    "\n",
    "col = ['Even' if x%2 ==0 else 'Odd' for x in l1]\n",
    "print col\n",
    "s1 = \"abc\"\n",
    "s2 = \"xyz\"\n",
    "s3 = [x+y for x in s1 for y in s2]\n",
    "print s3\n",
    "\n",
    "s4 = \"malayalam\"\n",
    "print len([w for w in s4 if w== w[::-1]])"
   ]
  }
 ],
 "metadata": {
  "kernelspec": {
   "display_name": "Python 2",
   "language": "python",
   "name": "python2"
  },
  "language_info": {
   "codemirror_mode": {
    "name": "ipython",
    "version": 2
   },
   "file_extension": ".py",
   "mimetype": "text/x-python",
   "name": "python",
   "nbconvert_exporter": "python",
   "pygments_lexer": "ipython2",
   "version": "2.7.15"
  }
 },
 "nbformat": 4,
 "nbformat_minor": 2
}
