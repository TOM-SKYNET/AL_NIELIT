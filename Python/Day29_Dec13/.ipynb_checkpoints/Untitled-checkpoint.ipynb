{
 "cells": [
  {
   "cell_type": "code",
   "execution_count": 1,
   "metadata": {},
   "outputs": [
    {
     "data": {
      "text/plain": [
       "'\\n2. Show partywise seat share for following results of the Assembly Elections 2018\\nin a piechart.Party with highest percentage should be shown as detached (slightly).\\n\\nMadhya Pradesh\\n\\tINC - Win (114)\\n        BJP - Win (15)\\n        Independent - Win (4)\\n        Others - Win (3)\\nRajasthan\\n\\tINC - Win (99)\\n\\tBJP- Win (73)\\n\\tIndependent- Win (3)\\n\\tOthers- Win (14)\\nChhattisgarh\\n\\tINC- Win (68)\\n\\tBJP- Win (15)\\n\\tBSP+- Win (9)\\n\\tOthers- Win (7)\\nTelangana\\n\\tTRS- Win (88)\\n\\tINC- Win (19)\\n\\tBJP- Win (1)\\n\\tOthers- Win (11)\\nMizoram\\n\\tMNF- Win (26)\\n\\tINC- Win (5)\\n\\tBJP- Win (1)\\n\\tOthers- Win (8)\\n'"
      ]
     },
     "execution_count": 1,
     "metadata": {},
     "output_type": "execute_result"
    }
   ],
   "source": [
    "\"\"\"\n",
    "2. Show partywise seat share for following results of the Assembly Elections 2018\n",
    "in a piechart.Party with highest percentage should be shown as detached (slightly).\n",
    "\n",
    "Madhya Pradesh\n",
    "\tINC - Win (114)\n",
    "        BJP - Win (15)\n",
    "        Independent - Win (4)\n",
    "        Others - Win (3)\n",
    "Rajasthan\n",
    "\tINC - Win (99)\n",
    "\tBJP- Win (73)\n",
    "\tIndependent- Win (3)\n",
    "\tOthers- Win (14)\n",
    "Chhattisgarh\n",
    "\tINC- Win (68)\n",
    "\tBJP- Win (15)\n",
    "\tBSP+- Win (9)\n",
    "\tOthers- Win (7)\n",
    "Telangana\n",
    "\tTRS- Win (88)\n",
    "\tINC- Win (19)\n",
    "\tBJP- Win (1)\n",
    "\tOthers- Win (11)\n",
    "Mizoram\n",
    "\tMNF- Win (26)\n",
    "\tINC- Win (5)\n",
    "\tBJP- Win (1)\n",
    "\tOthers- Win (8)\n",
    "\"\"\"\n"
   ]
  },
  {
   "cell_type": "code",
   "execution_count": 5,
   "metadata": {},
   "outputs": [],
   "source": [
    "# importing packages\n",
    "import matplotlib.pyplot as plt\n",
    "%matplotlib inline\n"
   ]
  },
  {
   "cell_type": "code",
   "execution_count": 19,
   "metadata": {},
   "outputs": [
    {
     "data": {
      "image/png": "[encoded data removed]",
      "text/plain": [
       "<Figure size 432x288 with 1 Axes>"
      ]
     },
     "metadata": {},
     "output_type": "display_data"
    }
   ],
   "source": [
    "fob = plt.figure(figsize = (6,4), facecolor='1')\n",
    "# spobj = fob.add_subplot(111)\n",
    "# fruits='Apple Orange Grapes Mango Pineapple'.split()\n",
    "# sales=[30,40,25,10,35]\n",
    "# colrs='r y c g b'.split()\n",
    "# expl=[0,0.1,0,0,0]\n",
    "# spobj.pie(sales, explode=expl, colors=colrs, autopct=\"%1.1f%%\", labels=fruits, startangle=90)\n",
    "\n",
    "colrs='r y c g'.split()\n",
    "expl=[0.1,0,0,0]\n",
    "\n",
    "# Sublpot for MP\n",
    "spmp = fob.add_subplot(111)\n",
    "parties_in_mp = [\"INC\", \"BJP\", \"INDEPENDENT\",\"OTHERS\"]\n",
    "won_in_mp = [114,15,4,3]\n",
    "spmp.pie(won_in_mp, explode=expl, colors=colrs, autopct='%1.1f%%', labels= parties_in_mp, startangle=90)\n",
    "plt.show()\n",
    "\n"
   ]
  },
  {
   "cell_type": "code",
   "execution_count": null,
   "metadata": {},
   "outputs": [],
   "source": []
  }
 ],
 "metadata": {
  "kernelspec": {
   "display_name": "Python 2",
   "language": "python",
   "name": "python2"
  },
  "language_info": {
   "codemirror_mode": {
    "name": "ipython",
    "version": 2
   },
   "file_extension": ".py",
   "mimetype": "text/x-python",
   "name": "python",
   "nbconvert_exporter": "python",
   "pygments_lexer": "ipython2",
   "version": "2.7.15"
  }
 },
 "nbformat": 4,
 "nbformat_minor": 2
}
