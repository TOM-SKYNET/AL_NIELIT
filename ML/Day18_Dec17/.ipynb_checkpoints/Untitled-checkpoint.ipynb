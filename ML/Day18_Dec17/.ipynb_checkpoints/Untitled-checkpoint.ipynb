{
 "cells": [
  {
   "cell_type": "code",
   "execution_count": 6,
   "metadata": {},
   "outputs": [
    {
     "name": "stdout",
     "output_type": "stream",
     "text": [
      "Tensor(\"zeros_5:0\", shape=(2, 3), dtype=float32)\n",
      "[[ 0.  0.  0.]\n",
      " [ 0.  0.  0.]]\n",
      "[[0 0 0]\n",
      " [0 0 0]]\n"
     ]
    }
   ],
   "source": [
    "\"\"\"\n",
    "   Q 1. Create a tensor of the shape [2, 3] with all elements set to zero.\n",
    "\"\"\"\n",
    "\n",
    "import tensorflow as tf\n",
    "session = tf.Session()\n",
    "\n",
    "a = tf.zeros([2,3])\n",
    "print a\n",
    "out = session.run(a)\n",
    "print out\n",
    "\n",
    "\"\"\"\n",
    "   Q  2. Let X be a tensor of [[1,2,3], [4,5,6]].\n",
    "    Create a tensor of the same shape and dtype as X with all elements set to zero\n",
    "\"\"\"\n",
    "b = tf.zeros_like([[1,2,3], [4,5,6]],tf.int32)\n",
    "out1 = session.run(b)\n",
    "print out1\n",
    "\n"
   ]
  },
  {
   "cell_type": "code",
   "execution_count": 7,
   "metadata": {},
   "outputs": [
    {
     "name": "stdout",
     "output_type": "stream",
     "text": [
      "[[ 1.  1.  1.]\n",
      " [ 1.  1.  1.]]\n"
     ]
    }
   ],
   "source": [
    "\"\"\"\n",
    "    3. Create a tensor of shape [2, 3] with all elements set to one.\n",
    "\"\"\"\n",
    "c = tf.ones([2,3])\n",
    "out2 = session.run(c)\n",
    "print out2"
   ]
  },
  {
   "cell_type": "code",
   "execution_count": 9,
   "metadata": {},
   "outputs": [
    {
     "name": "stdout",
     "output_type": "stream",
     "text": [
      "[[1 1 1]\n",
      " [1 1 1]]\n"
     ]
    }
   ],
   "source": [
    "\"\"\" \n",
    "    4. Let X be a tensor of [[1,2,3], [4,5,6]].\n",
    "    Create a tensor of the same shape and dtype as X with all elements set to one.\n",
    "\"\"\"\n",
    "d = tf.ones_like([[1,2,3], [4,5,6]], tf.int32)\n",
    "out3 = session.run(d)\n",
    "print out3\n",
    "\n"
   ]
  },
  {
   "cell_type": "code",
   "execution_count": 13,
   "metadata": {},
   "outputs": [
    {
     "name": "stdout",
     "output_type": "stream",
     "text": [
      "[[5 5]\n",
      " [5 5]\n",
      " [5 5]]\n"
     ]
    }
   ],
   "source": [
    "\"\"\"\n",
    "    5. Create a tensor of the shape [3, 2], with all elements of 5.\n",
    "\"\"\"\n",
    "e = tf.fill([3,2],value=5)\n",
    "out4 = session.run(e)\n",
    "print out4"
   ]
  },
  {
   "cell_type": "code",
   "execution_count": 20,
   "metadata": {},
   "outputs": [
    {
     "name": "stdout",
     "output_type": "stream",
     "text": [
      "[[ 1.  3.  5.]\n",
      " [ 4.  6.  8.]]\n"
     ]
    }
   ],
   "source": [
    "\"\"\"\n",
    "    6. Create a constant tensor of [[1, 3, 5], [4, 6, 8]], with dtype=float32\n",
    "\"\"\"\n",
    "f = tf.constant([[1, 3, 5], [4, 6, 8]], dtype=tf.float32)\n",
    "out5 = session.run(f)\n",
    "print out5"
   ]
  },
  {
   "cell_type": "code",
   "execution_count": 23,
   "metadata": {},
   "outputs": [
    {
     "name": "stdout",
     "output_type": "stream",
     "text": [
      "[[ 4.  4.]\n",
      " [ 4.  4.]]\n"
     ]
    }
   ],
   "source": [
    "\"\"\"\n",
    "    7. Create a constant tensor of the shape [2, 3], with all elements set to 4.\n",
    "\"\"\"\n",
    "h = tf.constant([[4,4,4],[4,4,4]], dtype=tf.float32)\n",
    "out6 = session.run(h)\n",
    "print out6"
   ]
  },
  {
   "cell_type": "code",
   "execution_count": 28,
   "metadata": {},
   "outputs": [
    {
     "name": "stdout",
     "output_type": "stream",
     "text": [
      "[  5.           5.10204077   5.20408154   5.3061223    5.40816307\n",
      "   5.51020432   5.61224508   5.71428585   5.81632662   5.91836739\n",
      "   6.02040815   6.12244892   6.22448969   6.32653046   6.4285717\n",
      "   6.53061247   6.63265324   6.734694     6.83673477   6.93877554\n",
      "   7.04081631   7.14285755   7.24489784   7.34693909   7.44897938\n",
      "   7.55102062   7.65306139   7.75510216   7.85714293   7.95918369\n",
      "   8.06122494   8.16326523   8.26530647   8.36734676   8.46938801\n",
      "   8.5714283    8.67346954   8.77551079   8.87755108   8.97959232\n",
      "   9.08163261   9.18367386   9.2857151    9.38775539   9.48979568\n",
      "   9.59183693   9.69387817   9.79591846   9.89795876  10.        ]\n"
     ]
    }
   ],
   "source": [
    "\"\"\"\n",
    "    8. Create a 1-D tensor of 50 evenly spaced elements between 5 and 10 inclusive.\n",
    "\"\"\"\n",
    "i = tf.linspace(5.0,10.0,50, name=\"l\")\n",
    "out7 = session.run(i)\n",
    "print out7"
   ]
  },
  {
   "cell_type": "code",
   "execution_count": 31,
   "metadata": {},
   "outputs": [],
   "source": [
    "\"\"\"\n",
    "    9. Create a random tensor of the shape [3, 2], with elements from a normal distribution of \n",
    "    mean=0, standard deviation=2.\n",
    "\"\"\"\n",
    "j = tf.random_normal([3,2],mean=0,stddev=2)"
   ]
  },
  {
   "cell_type": "code",
   "execution_count": 32,
   "metadata": {},
   "outputs": [
    {
     "name": "stdout",
     "output_type": "stream",
     "text": [
      "[[-1.19495869 -0.80033755]\n",
      " [-1.52644289  2.09045005]\n",
      " [ 0.4446097  -2.87126255]]\n"
     ]
    }
   ],
   "source": [
    "out8 = session.run(j)\n",
    "print out8"
   ]
  },
  {
   "cell_type": "code",
   "execution_count": 35,
   "metadata": {},
   "outputs": [
    {
     "name": "stdout",
     "output_type": "stream",
     "text": [
      "[[ 0.31992197  1.13481855]\n",
      " [ 1.61450267  0.11951542]\n",
      " [ 0.448421    0.67975521]]\n"
     ]
    }
   ],
   "source": [
    "\"\"\"\n",
    "    10. Create a random tensor of the shape [3, 2], with all elements from a uniform distribution that\n",
    "    ranges from 0 to 2 (exclusive).\n",
    "\"\"\"\n",
    "k = tf.random_uniform([3,2],minval=0,maxval=2)\n",
    "out9 = session.run(k)\n",
    "print out9\n",
    "                      "
   ]
  },
  {
   "cell_type": "code",
   "execution_count": 36,
   "metadata": {},
   "outputs": [
    {
     "name": "stdout",
     "output_type": "stream",
     "text": [
      "[[1 2]\n",
      " [5 6]\n",
      " [3 4]]\n"
     ]
    }
   ],
   "source": [
    "\"\"\"\n",
    "    11. Let X be a tensor of [[1, 2], [3, 4], [5, 6]]. Shuffle X along its first dimension.\n",
    "\"\"\"\n",
    "l = tf.random_shuffle([[1, 2], [3, 4], [5, 6]])\n",
    "out10 = session.run(l)\n",
    "print out10"
   ]
  },
  {
   "cell_type": "code",
   "execution_count": 39,
   "metadata": {},
   "outputs": [
    {
     "name": "stdout",
     "output_type": "stream",
     "text": [
      "[[[-0.54989618 -1.95653999 -0.53057992]\n",
      "  [-1.22344327 -0.78804147  2.47186613]\n",
      "  [ 2.10814571  0.24600893  1.46284616]\n",
      "  [-0.07881811 -0.417602   -0.6104328 ]\n",
      "  [ 0.23540887  1.2853235   0.98101771]]\n",
      "\n",
      " [[ 0.62355006  0.00684022 -0.25637794]\n",
      "  [ 0.89695531  2.7494719  -1.03642833]\n",
      "  [-0.02600786 -0.03038985 -0.07439225]\n",
      "  [ 0.08739468 -1.45020854  1.34765208]\n",
      "  [-0.86040825  1.06573963  0.87664539]]\n",
      "\n",
      " [[ 0.83262444  0.04263611 -0.03429463]\n",
      "  [-2.38601398  0.13066141  2.00629473]\n",
      "  [ 0.87928754 -0.99098772 -0.4181056 ]\n",
      "  [-1.53875482 -0.72770637 -1.31307447]\n",
      "  [-1.78188801  0.47914872 -1.16617084]]\n",
      "\n",
      " [[ 0.15400046 -1.62001133  1.00569308]\n",
      "  [ 0.1372225  -0.38233852 -0.18742789]\n",
      "  [ 0.79792488 -0.74788886  0.44454101]\n",
      "  [ 1.32092488  1.09046912 -0.89702094]\n",
      "  [ 1.10220647  0.07635307  0.47658542]]\n",
      "\n",
      " [[ 0.20601211 -0.3185674   0.31244829]\n",
      "  [ 0.7099545   0.47627765 -2.3705163 ]\n",
      "  [ 0.01056274  1.7638557   1.66534936]\n",
      "  [-0.6755712   0.14552887 -0.78605038]\n",
      "  [ 0.38595402  0.43743986  1.14152539]]]\n"
     ]
    }
   ],
   "source": [
    "\"\"\"\n",
    "    12. Let X be a random tensor of the shape [10, 10, 3], with elements from a unit normal\n",
    "    distribution. Crop X with the shape of [5, 5, 3]. (hint: 5, 3]) out = tf.random_crop(X, [5,5,3])\n",
    "\"\"\"\n",
    "m = tf.random_normal([10,10,3])\n",
    "out11 = tf.random_crop(m, [5,5,3])\n",
    "print (session.run(out11))\n"
   ]
  },
  {
   "cell_type": "code",
   "execution_count": 42,
   "metadata": {},
   "outputs": [
    {
     "name": "stdout",
     "output_type": "stream",
     "text": [
      "[[-1. -2. -3.]\n",
      " [ 0.  1.  2.]]\n",
      "[[ 0.  0.  0.]\n",
      " [ 0.  0.  0.]]\n",
      "[[ True  True  True]\n",
      " [False  True  True]]\n"
     ]
    }
   ],
   "source": [
    "\"\"\"\n",
    "    13. Let X be a tensor [[-1, -2, -3], [0, 1, 2]] and Y be a tensor of zeros with the same shape as\n",
    "    x. Return a boolean tensor that yields True if X does not equal Y elementwise. (hint : out\n",
    "    = tf.not_equal(X, Y))\n",
    "\"\"\"\n",
    "x = tf.constant([[-1,-2,-3],[0,1,2]],dtype=tf.float32)\n",
    "print session.run(x)\n",
    "y = tf.zeros([2,3],dtype=tf.float32)\n",
    "print session.run(y)\n",
    "out = tf.not_equal(x,y)\n",
    "print session.run(out)\n"
   ]
  },
  {
   "cell_type": "code",
   "execution_count": 44,
   "metadata": {},
   "outputs": [
    {
     "name": "stdout",
     "output_type": "stream",
     "text": [
      "[2 3 4]\n"
     ]
    }
   ],
   "source": [
    "\"\"\"\n",
    "    14. Add x and y element-wise. (hint: out = tf.add(x, y))\n",
    "\"\"\"\n",
    "x = tf.constant([1,2,3], name =\"x\")\n",
    "y = tf.constant([1,1,1], name =\"y\")\n",
    "z = tf.constant([5,6,7], name =\"z\")\n",
    "out = tf.add(x,y)\n",
    "print session.run(out)\n",
    "\n",
    "\n"
   ]
  },
  {
   "cell_type": "code",
   "execution_count": 47,
   "metadata": {},
   "outputs": [
    {
     "name": "stdout",
     "output_type": "stream",
     "text": [
      "[ 0 -1 -2]\n"
     ]
    }
   ],
   "source": [
    "\"\"\"\n",
    "    15. Subtract y from x element-wise.\n",
    "\"\"\"\n",
    "out = tf.subtract(y,x)\n",
    "print session.run(out)\n"
   ]
  },
  {
   "cell_type": "code",
   "execution_count": 48,
   "metadata": {},
   "outputs": [
    {
     "name": "stdout",
     "output_type": "stream",
     "text": [
      "[1 2 3]\n"
     ]
    }
   ],
   "source": [
    "\"\"\"\n",
    "    16. Multiply x by y element-wise.\n",
    "\"\"\"\n",
    "\n",
    "out = tf.multiply(y,x)\n",
    "print session.run(out)"
   ]
  },
  {
   "cell_type": "code",
   "execution_count": 49,
   "metadata": {},
   "outputs": [
    {
     "name": "stdout",
     "output_type": "stream",
     "text": [
      "[5 5 5]\n",
      "[ 5 10 15]\n"
     ]
    }
   ],
   "source": [
    "\"\"\"\n",
    "    17. Multiply x by 5 element-wise.\n",
    "\"\"\"\n",
    "out = tf.multiply(y,5)\n",
    "print session.run(out)\n",
    "out = tf.multiply(x,5)\n",
    "print session.run(out)"
   ]
  },
  {
   "cell_type": "code",
   "execution_count": 50,
   "metadata": {},
   "outputs": [
    {
     "name": "stdout",
     "output_type": "stream",
     "text": [
      "[ 7  9 11]\n"
     ]
    }
   ],
   "source": [
    "\"\"\"\n",
    "    18. Add x, y, and z element-wise.\n",
    "\"\"\"\n",
    "out = tf.add_n([x,y,z])\n",
    "print session.run(out)"
   ]
  },
  {
   "cell_type": "code",
   "execution_count": null,
   "metadata": {},
   "outputs": [],
   "source": [
    "\"\"\"\n",
    "    19. View the output using tensorboard for random questions\n",
    "\"\"\"\n"
   ]
  }
 ],
 "metadata": {
  "kernelspec": {
   "display_name": "Python 2",
   "language": "python",
   "name": "python2"
  },
  "language_info": {
   "codemirror_mode": {
    "name": "ipython",
    "version": 2
   },
   "file_extension": ".py",
   "mimetype": "text/x-python",
   "name": "python",
   "nbconvert_exporter": "python",
   "pygments_lexer": "ipython2",
   "version": "2.7.15"
  }
 },
 "nbformat": 4,
 "nbformat_minor": 2
}
