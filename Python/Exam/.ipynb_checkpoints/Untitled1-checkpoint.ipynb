{
 "cells": [
  {
   "cell_type": "code",
   "execution_count": 8,
   "metadata": {},
   "outputs": [
    {
     "name": "stdout",
     "output_type": "stream",
     "text": [
      "-f\n",
      "{'Untitled1.ipynb': 10674, 'yarn.default.xml': 66866, 'Untitled-checkpoint.ipynb': 72, 'word_counts-checkpoint.ipynb': 13173, 'stud1.csv': 166, 'story.txt': 404, 'Untitled1-checkpoint.ipynb': 72, 'book.xml': 686, 'mark1.csv': 213, 'e1.py': 5181, 'Untitled.ipynb': 13173, 'word_counts.ipynb': 13173}\n",
      "                       File Name  Counts\n",
      "0                Untitled1.ipynb   10674\n",
      "1               yarn.default.xml   66866\n",
      "2      Untitled-checkpoint.ipynb      72\n",
      "3   word_counts-checkpoint.ipynb   13173\n",
      "4                      stud1.csv     166\n",
      "5                      story.txt     404\n",
      "6     Untitled1-checkpoint.ipynb      72\n",
      "7                       book.xml     686\n",
      "8                      mark1.csv     213\n",
      "9                          e1.py    5181\n",
      "10                Untitled.ipynb   13173\n",
      "11             word_counts.ipynb   13173\n"
     ]
    },
    {
     "data": {
      "image/png": "[encoded data removed]",
      "text/plain": [
       "<Figure size 432x288 with 1 Axes>"
      ]
     },
     "metadata": {
      "needs_background": "light"
     },
     "output_type": "display_data"
    }
   ],
   "source": [
    "%matplotlib inline\n",
    "import os, sys\n",
    "import pandas as pd\n",
    "import matplotlib.pyplot as plt\n",
    "\n",
    "start_path = None\n",
    "try:\n",
    "    if sys.argv[1]:\n",
    "        start_path = sys.argv[1]\n",
    "    else:\n",
    "        start_path = '.'\n",
    "except IndexError:\n",
    "    start_path = '.'\n",
    "\n",
    "print start_path\n",
    "files_counts = {}\n",
    "for dirpath, dirnames, filenames in os.walk('.'):\n",
    "    for f in filenames:\n",
    "        fp = os.path.join(dirpath, f)\n",
    "        try:\n",
    "            stat = os.stat(fp)\n",
    "        except OSError:\n",
    "            continue\n",
    "        #fileName  = dirpath.join(f)\n",
    "        if f not in files_counts:\n",
    "            files_counts[f] = stat.st_size\n",
    "print files_counts\n",
    "df = pd.DataFrame()\n",
    "df['File Name'] = files_counts.keys()\n",
    "df['Counts'] = files_counts.values()\n",
    "print df\n",
    "plt.bar(files_counts.keys(),files_counts.values())\n",
    "plt.xticks(files_counts.keys(), rotation=90)\n",
    "plt.show()\n",
    "#df.plot.bar(x=\"File Name\",y=\"Counts\")"
   ]
  }
 ],
 "metadata": {
  "kernelspec": {
   "display_name": "Python 2",
   "language": "python",
   "name": "python2"
  },
  "language_info": {
   "codemirror_mode": {
    "name": "ipython",
    "version": 2
   },
   "file_extension": ".py",
   "mimetype": "text/x-python",
   "name": "python",
   "nbconvert_exporter": "python",
   "pygments_lexer": "ipython2",
   "version": "2.7.15"
  }
 },
 "nbformat": 4,
 "nbformat_minor": 2
}
