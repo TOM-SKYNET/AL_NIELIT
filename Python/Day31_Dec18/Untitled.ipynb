{
 "cells": [
  {
   "cell_type": "code",
   "execution_count": 3,
   "metadata": {},
   "outputs": [
    {
     "name": "stdout",
     "output_type": "stream",
     "text": [
      "3.77778\n",
      "[ 5.  3.  3.  5.  4.  5.  5.  4.  0.]\n"
     ]
    }
   ],
   "source": [
    "\"\"\"\n",
    "    1.Apply K-Means clustering for the following dataset for two clusters and plot the result.\n",
    "      dataset:{2,4,10,12,3,20,30,11,25}\n",
    "\"\"\"\n",
    "\n",
    "import numpy as np\n",
    "import scipy as sp\n",
    "from scipy.cluster.vq import vq\n",
    "from scipy.cluster.vq import kmeans\n",
    "from matplotlib import pyplot as plt\n",
    "\n",
    "dset = np.array([2,4,10,12,3,20,30,11,25])\n",
    "dset = sp.cast['f'](dset)\n",
    "no_of_clusters = 2\n",
    "\n",
    "centr1,dist1 = kmeans(dset, no_of_clusters)\n",
    "clustrs, distances = vq(dset,centr1)\n",
    "print dist1\n",
    "print distances"
   ]
  },
  {
   "cell_type": "code",
   "execution_count": 4,
   "metadata": {},
   "outputs": [
    {
     "name": "stdout",
     "output_type": "stream",
     "text": [
      "[1 2 3 4 5 6 7 8 9]\n",
      "[  2.   4.  10.  12.   3.  11.]\n",
      "[ 20.  30.  25.]\n"
     ]
    }
   ],
   "source": [
    "cx = np.arange(1, dset.size+1)\n",
    "print cx\n",
    "c1 = dset[clustrs==0]\n",
    "c2 = dset[clustrs==1]\n",
    "print c1\n",
    "print c2"
   ]
  },
  {
   "cell_type": "code",
   "execution_count": 8,
   "metadata": {},
   "outputs": [
    {
     "data": {
      "image/png": "[encoded data removed]",
      "text/plain": [
       "<Figure size 432x288 with 1 Axes>"
      ]
     },
     "metadata": {},
     "output_type": "display_data"
    }
   ],
   "source": [
    "plt.scatter(cx[clustrs==0],c1,color=\"r\", label =\"Cluster 1\")\n",
    "plt.scatter(cx[clustrs==1],c2,color=\"b\", label =\"Cluster 2\")\n",
    "plt.legend(loc=\"upper left\")\n",
    "plt.show()"
   ]
  },
  {
   "cell_type": "code",
   "execution_count": null,
   "metadata": {},
   "outputs": [],
   "source": []
  }
 ],
 "metadata": {
  "kernelspec": {
   "display_name": "Python 2",
   "language": "python",
   "name": "python2"
  },
  "language_info": {
   "codemirror_mode": {
    "name": "ipython",
    "version": 2
   },
   "file_extension": ".py",
   "mimetype": "text/x-python",
   "name": "python",
   "nbconvert_exporter": "python",
   "pygments_lexer": "ipython2",
   "version": "2.7.15"
  }
 },
 "nbformat": 4,
 "nbformat_minor": 2
}
