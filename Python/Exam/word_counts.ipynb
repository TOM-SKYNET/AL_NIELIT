{
 "cells": [
  {
   "cell_type": "code",
   "execution_count": 2,
   "metadata": {},
   "outputs": [
    {
     "name": "stdout",
     "output_type": "stream",
     "text": [
      "{'and': 4, 'Welcome': 1, 'help': 1, 'is': 1, 'explained': 1, 'To': 1, 'well.': 1, 'solutions': 1, 'article': 2, 'You': 1, 'your': 3, 'Geeks.': 2, 'for': 3, 'provide': 1, 'selected': 1, 'been': 1, 'write': 1, 'to': 3, 'written': 1, 'other': 1, 'questions.': 1, 'you': 1, 'has': 1, 'article.': 1, 'contribute': 1, 'on.': 1, 'org': 1, 'This': 1, 'geeksforgeeks': 1, 'Thought': 1, 'chance': 1, 'portal': 1, 'would': 1, 'mail': 1, 'world': 1, 'The': 1, 'main': 1, 'appearing': 1, 'like': 2, 'contribute.': 1, 'created': 1, 'of': 2, 'Geeks': 4, 'well': 2, 'thousands': 1, 'See': 1, 'can': 1, 'at': 1, 'the': 1, 'Here': 1, 'page': 1, 'If': 1}\n",
      "     Words  Counts\n",
      "0      and       4\n",
      "1    Geeks       4\n",
      "2     your       3\n",
      "3      for       3\n",
      "4       to       3\n",
      "5   Geeks.       2\n",
      "6  article       2\n",
      "7     like       2\n",
      "8       of       2\n",
      "9     well       2\n"
     ]
    },
    {
     "data": {
      "text/plain": [
       "<matplotlib.axes._subplots.AxesSubplot at 0x1144f1090>"
      ]
     },
     "execution_count": 2,
     "metadata": {},
     "output_type": "execute_result"
    },
    {
     "data": {
      "image/png": "[encoded data removed]",
      "text/plain": [
       "<Figure size 432x288 with 1 Axes>"
      ]
     },
     "metadata": {
      "needs_background": "light"
     },
     "output_type": "display_data"
    }
   ],
   "source": [
    "%matplotlib inline\n",
    "from collections import Counter\n",
    "import pandas as pd\n",
    "\n",
    "words_dict = dict()\n",
    "with open(\"story.txt\") as file:\n",
    "    for line in file.readlines():\n",
    "        words = line.split()\n",
    "        for word in words:\n",
    "            if word in words_dict:\n",
    "                words_dict[word] += 1\n",
    "            else:\n",
    "                words_dict[word] = 1\n",
    "\n",
    "print words_dict\n",
    "\n",
    "word_counter = Counter(words_dict)\n",
    "lst = word_counter.most_common(10)\n",
    "df = pd.DataFrame(lst, columns=['Words', 'Counts'])\n",
    "print df\n",
    "df.plot.bar(x='Words',y='Counts')\n"
   ]
  }
 ],
 "metadata": {
  "kernelspec": {
   "display_name": "Python 2",
   "language": "python",
   "name": "python2"
  },
  "language_info": {
   "codemirror_mode": {
    "name": "ipython",
    "version": 2
   },
   "file_extension": ".py",
   "mimetype": "text/x-python",
   "name": "python",
   "nbconvert_exporter": "python",
   "pygments_lexer": "ipython2",
   "version": "2.7.15"
  }
 },
 "nbformat": 4,
 "nbformat_minor": 2
}
